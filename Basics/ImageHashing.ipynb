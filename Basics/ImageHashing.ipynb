{
 "cells": [
  {
   "cell_type": "markdown",
   "id": "73bfa2c6",
   "metadata": {},
   "source": [
    "## Image Hashing for Similarity Matching"
   ]
  },
  {
   "cell_type": "markdown",
   "id": "497d1391",
   "metadata": {},
   "source": [
    "Image Hashing involves modifying an input image to a fixed size binary vector through transformation.\n",
    "\n",
    "1) Perceptual Hash: Cosine Transformation\n",
    "2) Difference Hash: Difference between adjacent pixels"
   ]
  },
  {
   "cell_type": "markdown",
   "id": "3e252350",
   "metadata": {},
   "source": [
    "Average Hash:\n",
    "\n",
    "Reduce size. The fastest way to remove high frequencies and detail is to shrink the image. In this case, shrink it to 8x8 so that there are 64 total pixels. Don't bother keeping the aspect ratio, just crush it down to fit an 8x8 square. This way, the hash will match any variation of the image, regardless of scale or aspect ratio.\n",
    " \n",
    "Reduce color. The tiny 8x8 picture is converted to a grayscale. This changes the hash from 64 pixels (64 red, 64 green, and 64 blue) to 64 total colors.\n",
    "Average the colors. Compute the mean value of the 64 colors.\n",
    "\n",
    "Compute the bits. This is the fun part. Each bit is simply set based on whether the color value is above or below the mean.\n",
    "\n",
    "Construct the hash. Set the 64 bits into a 64-bit integer. The order does not matter, just as long as you are consistent."
   ]
  },
  {
   "cell_type": "code",
   "execution_count": 35,
   "id": "ef64d7ae",
   "metadata": {},
   "outputs": [],
   "source": [
    "from PIL import Image\n",
    "import imagehash\n",
    "import distance\n",
    "import scipy.spatial\n",
    "import matplotlib.pyplot as plt\n",
    "import cv2\n",
    "import seaborn as sns\n",
    "import numpy as np\n",
    "from scipy.fftpack import dct, idct"
   ]
  },
  {
   "cell_type": "code",
   "execution_count": 13,
   "id": "a66e9012",
   "metadata": {},
   "outputs": [],
   "source": [
    "img1 = Image.open('/Users/lkshm/Downloads/colorferet/colorferet/dvd2/data/images/01207/01207_940128_hr.ppm/01207_940128_hr.ppm').resize((8,8))\n",
    "img2 = Image.open('C:/Users/lkshm/Downloads/colorferet/colorferet/dvd2/data/images/01208/01208_940128_fb_a.ppm/01208_940128_fb_a.ppm').resize((8,8))"
   ]
  },
  {
   "cell_type": "code",
   "execution_count": 26,
   "id": "62f6e148",
   "metadata": {},
   "outputs": [],
   "source": [
    "img1 = np.array(img1)\n",
    "img1_gray = cv2.cvtColor(img1, cv2.COLOR_RGB2GRAY)\n",
    "img2 = np.array(img2)\n",
    "img2_gray = cv2.cvtColor(img2, cv2.COLOR_BGR2GRAY)\n"
   ]
  },
  {
   "cell_type": "markdown",
   "id": "f6b34764",
   "metadata": {},
   "source": [
    "### Average Hash"
   ]
  },
  {
   "cell_type": "code",
   "execution_count": 27,
   "id": "0b0eafb3",
   "metadata": {},
   "outputs": [],
   "source": [
    "mean2 = img2_gray.mean()\n",
    "mean1 = img1_gray.mean()\n"
   ]
  },
  {
   "cell_type": "code",
   "execution_count": 28,
   "id": "523aa941",
   "metadata": {},
   "outputs": [],
   "source": [
    "bitsrepr1 = [[1 if i>mean1 else 0 for i in j] for j in img1_gray]\n",
    "bitsrepr2 = [[1 if i>mean2 else 0 for i in j] for j in img2_gray]\n"
   ]
  },
  {
   "cell_type": "code",
   "execution_count": 29,
   "id": "aa5df8c9",
   "metadata": {},
   "outputs": [
    {
     "data": {
      "image/png": "[encoded data removed]",
      "text/plain": [
       "<Figure size 640x480 with 2 Axes>"
      ]
     },
     "metadata": {},
     "output_type": "display_data"
    }
   ],
   "source": [
    "plt.imshow(bitsrepr1, interpolation=\"nearest\", origin=\"upper\")\n",
    "plt.colorbar()\n",
    "plt.show()"
   ]
  },
  {
   "cell_type": "code",
   "execution_count": 30,
   "id": "b279621e",
   "metadata": {},
   "outputs": [
    {
     "data": {
      "image/png": "[encoded data removed]",
      "text/plain": [
       "<Figure size 640x480 with 2 Axes>"
      ]
     },
     "metadata": {},
     "output_type": "display_data"
    }
   ],
   "source": [
    "plt.imshow(bitsrepr2, interpolation=\"nearest\", origin=\"upper\")\n",
    "plt.colorbar()\n",
    "plt.show()"
   ]
  },
  {
   "cell_type": "code",
   "execution_count": 31,
   "id": "e8ab82b4",
   "metadata": {},
   "outputs": [],
   "source": [
    "bitsrepr2 = np.array(bitsrepr2)\n",
    "bitsrepr1 = np.array(bitsrepr1)\n",
    "imgHash1 = bitsrepr1.flatten()\n",
    "imgHash2 = bitsrepr2.flatten()\n"
   ]
  },
  {
   "cell_type": "code",
   "execution_count": 32,
   "id": "f6f8f9fb",
   "metadata": {},
   "outputs": [],
   "source": [
    "imgHash1 = int(''.join(map(str, imgHash1)), 2)\n",
    "imgHash2 = int(''.join(map(str, imgHash2)), 2)\n"
   ]
  },
  {
   "cell_type": "code",
   "execution_count": 33,
   "id": "ad0358f6",
   "metadata": {},
   "outputs": [
    {
     "name": "stdout",
     "output_type": "stream",
     "text": [
      "18429223912148812544 18429716503055270656\n"
     ]
    }
   ],
   "source": [
    "print(imgHash2, imgHash1)"
   ]
  },
  {
   "cell_type": "markdown",
   "id": "c6ce7b44",
   "metadata": {},
   "source": [
    "### pHash"
   ]
  },
  {
   "cell_type": "markdown",
   "id": "3524d0b5",
   "metadata": {},
   "source": [
    "Reduce size. Like Average Hash, pHash starts with a small image. However, the image is larger than 8x8; 32x32 is a good size. This is really done to simplify the DCT computation and not because it is needed to reduce the high frequencies.\n",
    "\n",
    "Reduce color. The image is reduced to a grayscale just to further simplify the number of computations.\n",
    "\n",
    "Compute the DCT. The DCT separates the image into a collection of frequencies and scalars. While JPEG uses an 8x8 DCT, this algorithm uses a 32x32 DCT.\n",
    "Reduce the DCT. While the DCT is 32x32, just keep the top-left 8x8. Those represent the lowest frequencies in the picture.\n",
    "\n",
    "Compute the average value. Like the Average Hash, compute the mean DCT value (using only the 8x8 DCT low-frequency values and excluding the first term since the DC coefficient can be significantly different from the other values and will throw off the average). Thanks to David Starkweather for the added information about pHash. He wrote: \"the dct hash is based on the low 2D DCT coefficients starting at the second from lowest, leaving out the first DC term. This excludes completely flat image information (i.e. solid colors) from being included in the hash description.\"\n",
    "\n",
    "Further reduce the DCT. This is the magic step. Set the 64 hash bits to 0 or 1 depending on whether each of the 64 DCT values is above or below the average value. The result doesn't tell us the actual low frequencies; it just tells us the very-rough relative scale of the frequencies to the mean. The result will not vary as long as the overall structure of the image remains the same; this can survive gamma and color histogram adjustments without a problem.\n",
    "\n",
    "Construct the hash. Set the 64 bits into a 64-bit integer. The order does not matter, just as long as you are consistent."
   ]
  },
  {
   "cell_type": "code",
   "execution_count": 50,
   "id": "2bae1d79",
   "metadata": {},
   "outputs": [],
   "source": [
    "img1 = Image.open('/Users/lkshm/Downloads/colorferet/colorferet/dvd2/data/images/01207/01207_940128_hr.ppm/01207_940128_hr.ppm').resize((32,32))\n",
    "img2 = Image.open('C:/Users/lkshm/Downloads/colorferet/colorferet/dvd2/data/images/01208/01208_940128_fb_a.ppm/01208_940128_fb_a.ppm').resize((32,32))"
   ]
  },
  {
   "cell_type": "code",
   "execution_count": 51,
   "id": "dccbe408",
   "metadata": {},
   "outputs": [],
   "source": [
    "img1 = np.array(img1)\n",
    "img1_gray = cv2.cvtColor(img1, cv2.COLOR_RGB2GRAY)\n",
    "img2 = np.array(img2)\n",
    "img2_gray = cv2.cvtColor(img2, cv2.COLOR_BGR2GRAY)\n"
   ]
  },
  {
   "cell_type": "code",
   "execution_count": 52,
   "id": "872e99b6",
   "metadata": {},
   "outputs": [],
   "source": [
    "real1 = np.real(dct(img1_gray))\n",
    "real2 = np.real(dct(img2_gray))\n"
   ]
  },
  {
   "cell_type": "code",
   "execution_count": 53,
   "id": "2a4c0e75",
   "metadata": {},
   "outputs": [],
   "source": [
    "meanReal1 = real1.mean()\n",
    "meanReal2 = real2.mean()"
   ]
  },
  {
   "cell_type": "code",
   "execution_count": 54,
   "id": "74dcb081",
   "metadata": {},
   "outputs": [],
   "source": [
    "bitsrepr1 = [[1 if i>meanReal1 else 0 for i in j[:8]] for j in real1[:8]]\n",
    "bitsrepr2 = [[1 if i>meanReal2 else 0 for i in j[:8]] for j in real2[:8]]\n"
   ]
  },
  {
   "cell_type": "code",
   "execution_count": 55,
   "id": "917972e3",
   "metadata": {},
   "outputs": [
    {
     "data": {
      "image/png": "[encoded data removed]",
      "text/plain": [
       "<Figure size 640x480 with 2 Axes>"
      ]
     },
     "metadata": {},
     "output_type": "display_data"
    }
   ],
   "source": [
    "plt.imshow(bitsrepr1, interpolation=\"nearest\", origin=\"upper\")\n",
    "plt.colorbar()\n",
    "plt.show()"
   ]
  },
  {
   "cell_type": "code",
   "execution_count": 56,
   "id": "3eae87cf",
   "metadata": {},
   "outputs": [
    {
     "data": {
      "image/png": "[encoded data removed]",
      "text/plain": [
       "<Figure size 640x480 with 2 Axes>"
      ]
     },
     "metadata": {},
     "output_type": "display_data"
    }
   ],
   "source": [
    "plt.imshow(bitsrepr2, interpolation=\"nearest\", origin=\"upper\")\n",
    "plt.colorbar()\n",
    "plt.show()"
   ]
  },
  {
   "cell_type": "code",
   "execution_count": 57,
   "id": "febcb045",
   "metadata": {},
   "outputs": [
    {
     "name": "stdout",
     "output_type": "stream",
     "text": [
      "9259582136823376104 9259542261251745978\n"
     ]
    }
   ],
   "source": [
    "bitsrepr2 = np.array(bitsrepr2)\n",
    "bitsrepr1 = np.array(bitsrepr1)\n",
    "imgHash1 = bitsrepr1.flatten()\n",
    "imgHash2 = bitsrepr2.flatten()\n",
    "\n",
    "imgHash1 = int(''.join(map(str, imgHash1)), 2)\n",
    "imgHash2 = int(''.join(map(str, imgHash2)), 2)\n",
    "\n",
    "print(imgHash2, imgHash1)"
   ]
  },
  {
   "cell_type": "code",
   "execution_count": null,
   "id": "001e3097",
   "metadata": {},
   "outputs": [],
   "source": []
  }
 ],
 "metadata": {
  "kernelspec": {
   "display_name": "Python 3",
   "language": "python",
   "name": "python3"
  },
  "language_info": {
   "codemirror_mode": {
    "name": "ipython",
    "version": 3
   },
   "file_extension": ".py",
   "mimetype": "text/x-python",
   "name": "python",
   "nbconvert_exporter": "python",
   "pygments_lexer": "ipython3",
   "version": "3.11.9"
  }
 },
 "nbformat": 4,
 "nbformat_minor": 5
}
