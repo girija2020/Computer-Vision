{
 "cells": [
  {
   "cell_type": "code",
   "execution_count": null,
   "id": "0d3de888",
   "metadata": {},
   "outputs": [],
   "source": [
    "import torch\n",
    "'''\n",
    "How to build an LDM\n",
    "There are two components\n",
    "1) Perceptual Loss\n",
    "Here I will do this with an Auto Encoder\n",
    "loss(L) = ‖Φ(x) - Φ(D(E(x)))‖^p\n",
    "2) Build a diffusion Model with U-Net backbone\n",
    "'''\n",
    "\n"
   ]
  }
 ],
 "metadata": {
  "language_info": {
   "name": "python"
  }
 },
 "nbformat": 4,
 "nbformat_minor": 5
}
